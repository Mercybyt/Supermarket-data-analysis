{
 "cells": [
  {
   "cell_type": "markdown",
   "id": "5317df87",
   "metadata": {},
   "source": [
    "### EXECUTIVE SUMMARY"
   ]
  },
  {
   "cell_type": "markdown",
   "id": "a4de6a8e",
   "metadata": {},
   "source": [
    "* Company XYZ owns a supermarket in 3 cities across the Country - Lagos, Abuja and Portharcourt. This data analysis is conducted to determine sales trend and Company growth, as there has been an increase in Supermarket competition."
   ]
  },
  {
   "cell_type": "markdown",
   "id": "e9576283",
   "metadata": {},
   "source": [
    "* The sum and mean of teh City column is determined using the aggregation function. **gross_income = City['gross income'].sum().reset_index()\n",
    "A groupby method also shows the gross income of each city and the city with the highest total gross income is determined using the .max() method. **gross_income.max().reset_index()\n",
    "A table showing the Unit Price, Quantity and gross margin percentage was generated using the GroupBy method.\n",
    "Also the product line and gross income are generated with the groupby function. **other_columns = City['Unit price', 'Quantity', 'gross margin percentage'].sum() From this, City with the highest Unit price, highest quantity, gross margin percentage was determined, as well as Product line against Gross income to determine the product line with the highest gross income."
   ]
  },
  {
   "cell_type": "markdown",
   "id": "8ff660d6",
   "metadata": {},
   "source": [
    "* The use of countplot to determine the branch with the highest sales record.\n",
    "Also, using countplot to determine the highest payment method used.\n",
    "The city with the highest sales was also determined using the count plot.\n",
    "The sales in different product line was determined using countplot()\n",
    "The payment method versus product line was explored to determine the payment method mostly used for each product line.\n",
    "The payment method mostly used in each branch was determined using the countplot() method.\n",
    "The customer's level of satisfaction in each branch was determined using the boxplot() by plotting the 'Rating column' against 'Branch'."
   ]
  },
  {
   "cell_type": "markdown",
   "id": "67356fe0",
   "metadata": {},
   "source": [
    "* It is believed that gender type affects the type of product being purchased at the supermarket. Hence, a catplot of the 'boxen' kind was used to determine what each gender buy most.\n",
    "\n",
    "A catplot() method of kind 'point' was used to compare Product line, Unit price and Quantity.\n",
    "\n",
    "In further Data analysis, countplot() was used to determine the payment method preferred by each gender.\n",
    "\n",
    "*sns.countplot(x = 'Payment', data = df, hue = 'Gender').set_title('Gender vs Payment method');\n",
    "\n",
    "The plotting of Gender against City also determines the number of each gender that makes more purchase. *sns.countplot(x = 'City', data = df, hue = 'Gender').set_title('Gender vs City');\n",
    "\n",
    "The last part showed a catplot() of the kind 'violiin' that shows the City that pays the highest tax. *sns.catplot(x = 'City', y = 'Tax 5%', kind = 'violin', data = df, aspect = 4);"
   ]
  }
 ],
 "metadata": {
  "kernelspec": {
   "display_name": "Python 3",
   "language": "python",
   "name": "python3"
  },
  "language_info": {
   "codemirror_mode": {
    "name": "ipython",
    "version": 3
   },
   "file_extension": ".py",
   "mimetype": "text/x-python",
   "name": "python",
   "nbconvert_exporter": "python",
   "pygments_lexer": "ipython3",
   "version": "3.8.8"
  }
 },
 "nbformat": 4,
 "nbformat_minor": 5
}
